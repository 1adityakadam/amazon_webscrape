{
 "cells": [
  {
   "cell_type": "code",
   "execution_count": 2,
   "metadata": {},
   "outputs": [
    {
     "name": "stdout",
     "output_type": "stream",
     "text": [
      "Requirement already satisfied: bs4 in /Users/adityakadam/miniforge3/lib/python3.12/site-packages (0.0.2)\n",
      "Requirement already satisfied: beautifulsoup4 in /Users/adityakadam/miniforge3/lib/python3.12/site-packages (from bs4) (4.12.3)\n",
      "Requirement already satisfied: soupsieve>1.2 in /Users/adityakadam/miniforge3/lib/python3.12/site-packages (from beautifulsoup4->bs4) (2.5)\n",
      "Requirement already satisfied: requests in /Users/adityakadam/miniforge3/lib/python3.12/site-packages (2.32.3)\n",
      "Requirement already satisfied: charset_normalizer<4,>=2 in /Users/adityakadam/miniforge3/lib/python3.12/site-packages (from requests) (3.4.1)\n",
      "Requirement already satisfied: idna<4,>=2.5 in /Users/adityakadam/miniforge3/lib/python3.12/site-packages (from requests) (3.10)\n",
      "Requirement already satisfied: urllib3<3,>=1.21.1 in /Users/adityakadam/miniforge3/lib/python3.12/site-packages (from requests) (1.26.20)\n",
      "Requirement already satisfied: certifi>=2017.4.17 in /Users/adityakadam/miniforge3/lib/python3.12/site-packages (from requests) (2025.1.31)\n",
      "Requirement already satisfied: pandas in /Users/adityakadam/miniforge3/lib/python3.12/site-packages (2.2.3)\n",
      "Requirement already satisfied: numpy>=1.26.0 in /Users/adityakadam/miniforge3/lib/python3.12/site-packages (from pandas) (2.1.3)\n",
      "Requirement already satisfied: python-dateutil>=2.8.2 in /Users/adityakadam/miniforge3/lib/python3.12/site-packages (from pandas) (2.9.0.post0)\n",
      "Requirement already satisfied: pytz>=2020.1 in /Users/adityakadam/miniforge3/lib/python3.12/site-packages (from pandas) (2024.1)\n",
      "Requirement already satisfied: tzdata>=2022.7 in /Users/adityakadam/miniforge3/lib/python3.12/site-packages (from pandas) (2023.3)\n",
      "Requirement already satisfied: six>=1.5 in /Users/adityakadam/miniforge3/lib/python3.12/site-packages (from python-dateutil>=2.8.2->pandas) (1.17.0)\n"
     ]
    }
   ],
   "source": [
    "!pip install bs4\n",
    "!pip install requests\n",
    "!pip install pandas"
   ]
  },
  {
   "cell_type": "code",
   "execution_count": 34,
   "metadata": {},
   "outputs": [],
   "source": [
    "from bs4 import BeautifulSoup\n",
    "import pandas as pd\n",
    "import requests\n",
    "import regex as re\n",
    "import numpy as np"
   ]
  },
  {
   "cell_type": "code",
   "execution_count": 4,
   "metadata": {},
   "outputs": [],
   "source": [
    "def gettitle(product_soup):\n",
    "    try:\n",
    "        product_title = product_soup.find('span',attrs={'id':\"productTitle\"}).text.strip()\n",
    "    except AttributeError:\n",
    "        product_title=''\n",
    "    return product_title\n",
    "    \n",
    "def getprice(product_soup):\n",
    "    try:\n",
    "        product_price = product_soup.find('span',attrs={'class':\"a-price aok-align-center reinventPricePriceToPayMargin priceToPay\"}).text.strip()\n",
    "    except AttributeError:\n",
    "        product_price=''\n",
    "    return product_price\n",
    "    \n",
    "def getratings(product_soup):\n",
    "    try:\n",
    "        product_ratings = product_soup.find('span',attrs={'class':\"a-icon-alt\"}).text\n",
    "        product_ratings = product_ratings[:3]\n",
    "    except AttributeError:\n",
    "        product_ratings=''\n",
    "    return product_ratings  \n",
    "    \n",
    "def gettotalratings(product_soup):\n",
    "    try:\n",
    "        product_total_ratings = product_soup.find('span',attrs={'id':\"acrCustomerReviewText\"}).text\n",
    "        product_total_ratings = re.sub(r'\\D','',product_total_ratings)\n",
    "    except AttributeError:\n",
    "        product_total_ratings=''\n",
    "    return product_total_ratings  \n",
    "    "
   ]
  },
  {
   "cell_type": "code",
   "execution_count": 16,
   "metadata": {},
   "outputs": [],
   "source": [
    "if __name__ == '__main__':\n",
    "    \n",
    "    url = 'https://www.amazon.com/s?k=macbook+pro&crid=1P5EN1K076XZH&sprefix=macbook+pro%2Caps%2C166&ref=nb_sb_noss_1'\n",
    "    \n",
    "    headers = {\n",
    "    'User-Agent': 'Mozilla/5.0 (Macintosh; Intel Mac OS X 10_15_7) AppleWebKit/537.36 (KHTML, like Gecko) Chrome/134.0.0.0 Safari/537.36',\n",
    "    'Accept-Language': 'en-US, en;q=0.5'\n",
    "    }\n",
    "    \n",
    "    webpage = requests.get(url,headers=headers)\n",
    "    \n",
    "    soup = BeautifulSoup(webpage.content,'html.parser')\n",
    "    \n",
    "    links = soup.find_all('a',attrs={'class':'a-link-normal s-line-clamp-2 s-link-style a-text-normal'})\n",
    "    \n",
    "    links_list = []\n",
    "    \n",
    "    for link in links:\n",
    "        links_list.append(link.get('href'))\n",
    "        \n",
    "    d = {\"title\":[], \"price\":[], \"ratings\":[], \"totalratings\":[]}\n",
    "    \n",
    "    \n",
    "    for link in links_list:\n",
    "        new_webpage = requests.get( \"https://www.amazon.com\" + link, headers=headers)\n",
    "        new_soup = BeautifulSoup(new_webpage.content, \"html.parser\")\n",
    "        \n",
    "        d['title'].append(gettitle(new_soup))\n",
    "        d['price'].append(getprice(new_soup)) \n",
    "        d['ratings'].append(getratings(new_soup))\n",
    "        d['totalratings'].append(gettotalratings(new_soup))\n",
    "    \n",
    "    \n",
    "    amazon_df = pd.DataFrame.from_dict(d)\n",
    "    \n",
    "    amazon_df['title'] = amazon_df['title'].replace('',np.nan)\n",
    "    amazon_df = amazon_df.dropna(subset=['title'])\n",
    "    # amazon_df.to_csv(\"amazon_data.csv\", header=True,index=False)"
   ]
  },
  {
   "cell_type": "code",
   "execution_count": 17,
   "metadata": {},
   "outputs": [
    {
     "data": {
      "text/html": [
       "<div>\n",
       "<style scoped>\n",
       "    .dataframe tbody tr th:only-of-type {\n",
       "        vertical-align: middle;\n",
       "    }\n",
       "\n",
       "    .dataframe tbody tr th {\n",
       "        vertical-align: top;\n",
       "    }\n",
       "\n",
       "    .dataframe thead th {\n",
       "        text-align: right;\n",
       "    }\n",
       "</style>\n",
       "<table border=\"1\" class=\"dataframe\">\n",
       "  <thead>\n",
       "    <tr style=\"text-align: right;\">\n",
       "      <th></th>\n",
       "      <th>title</th>\n",
       "      <th>price</th>\n",
       "      <th>ratings</th>\n",
       "      <th>totalratings</th>\n",
       "    </tr>\n",
       "  </thead>\n",
       "  <tbody>\n",
       "    <tr>\n",
       "      <th>0</th>\n",
       "      <td>Apple 2024 MacBook Pro Laptop with M4 chip wit...</td>\n",
       "      <td>$1,399.00</td>\n",
       "      <td>4.8</td>\n",
       "      <td>464</td>\n",
       "    </tr>\n",
       "    <tr>\n",
       "      <th>1</th>\n",
       "      <td>Apple 2024 MacBook Pro Laptop with M4 Pro, 14‑...</td>\n",
       "      <td>$2,229.00</td>\n",
       "      <td>4.7</td>\n",
       "      <td>148</td>\n",
       "    </tr>\n",
       "    <tr>\n",
       "      <th>2</th>\n",
       "      <td>Apple 2024 MacBook Pro Laptop with M4 Pro, 12-...</td>\n",
       "      <td>$1,779.00</td>\n",
       "      <td>4.8</td>\n",
       "      <td>464</td>\n",
       "    </tr>\n",
       "    <tr>\n",
       "      <th>3</th>\n",
       "      <td>Apple 2024 MacBook Air 13-inch Laptop with M3 ...</td>\n",
       "      <td>$999.00</td>\n",
       "      <td>4.7</td>\n",
       "      <td>1131</td>\n",
       "    </tr>\n",
       "    <tr>\n",
       "      <th>4</th>\n",
       "      <td>Apple 2024 MacBook Pro Laptop with M4 Pro, 14‑...</td>\n",
       "      <td>$2,591.00</td>\n",
       "      <td>4.7</td>\n",
       "      <td>148</td>\n",
       "    </tr>\n",
       "    <tr>\n",
       "      <th>5</th>\n",
       "      <td>2020 Apple MacBook Pro with 2.0GHz Intel Core ...</td>\n",
       "      <td></td>\n",
       "      <td>4.1</td>\n",
       "      <td>655</td>\n",
       "    </tr>\n",
       "    <tr>\n",
       "      <th>6</th>\n",
       "      <td>MacBook Pro M3 8-core CPU and 10-core GPU 14\" ...</td>\n",
       "      <td></td>\n",
       "      <td>4.1</td>\n",
       "      <td>25</td>\n",
       "    </tr>\n",
       "    <tr>\n",
       "      <th>7</th>\n",
       "      <td>Apple 2024 MacBook Air 15-inch Laptop with M3 ...</td>\n",
       "      <td>$1,399.00</td>\n",
       "      <td>4.7</td>\n",
       "      <td>881</td>\n",
       "    </tr>\n",
       "    <tr>\n",
       "      <th>8</th>\n",
       "      <td>Apple MacBook Pro 13-inch 2.3GHz Core i5, 256G...</td>\n",
       "      <td></td>\n",
       "      <td>3.6</td>\n",
       "      <td>3478</td>\n",
       "    </tr>\n",
       "    <tr>\n",
       "      <th>9</th>\n",
       "      <td>Apple 2025 MacBook Air 13-inch Laptop with M4 ...</td>\n",
       "      <td>$999.00</td>\n",
       "      <td>4.8</td>\n",
       "      <td></td>\n",
       "    </tr>\n",
       "    <tr>\n",
       "      <th>10</th>\n",
       "      <td>Apple MacBook Pro Late 2019 with 2.6GHz Intel ...</td>\n",
       "      <td></td>\n",
       "      <td>4.0</td>\n",
       "      <td>1065</td>\n",
       "    </tr>\n",
       "    <tr>\n",
       "      <th>11</th>\n",
       "      <td>Apple 2022 MacBook Air Laptop with M2 chip: Bu...</td>\n",
       "      <td>$799.00</td>\n",
       "      <td>4.7</td>\n",
       "      <td>1057</td>\n",
       "    </tr>\n",
       "    <tr>\n",
       "      <th>12</th>\n",
       "      <td>Apple MacBook Pro Late 2021 with Apple M1 Pro ...</td>\n",
       "      <td></td>\n",
       "      <td>4.3</td>\n",
       "      <td>657</td>\n",
       "    </tr>\n",
       "    <tr>\n",
       "      <th>13</th>\n",
       "      <td>Apple MacBook Pro MGXA2LL/A 15-Inch Laptop wit...</td>\n",
       "      <td></td>\n",
       "      <td>3.9</td>\n",
       "      <td>830</td>\n",
       "    </tr>\n",
       "    <tr>\n",
       "      <th>14</th>\n",
       "      <td>Apple MacBook Pro 2020 with Apple M1 Chip (13-...</td>\n",
       "      <td></td>\n",
       "      <td>4.3</td>\n",
       "      <td>694</td>\n",
       "    </tr>\n",
       "    <tr>\n",
       "      <th>15</th>\n",
       "      <td>Apple Macbook Air 2017 with 1.8GHz Intel Core ...</td>\n",
       "      <td></td>\n",
       "      <td>4.0</td>\n",
       "      <td>1413</td>\n",
       "    </tr>\n",
       "    <tr>\n",
       "      <th>16</th>\n",
       "      <td>2022 Apple MacBook Pro Laptop with Apple M2 ch...</td>\n",
       "      <td></td>\n",
       "      <td>4.5</td>\n",
       "      <td>300</td>\n",
       "    </tr>\n",
       "    <tr>\n",
       "      <th>17</th>\n",
       "      <td>Apple MacBook Pro 15\" Retina Core i7 2.6GHz ML...</td>\n",
       "      <td></td>\n",
       "      <td>3.7</td>\n",
       "      <td>109</td>\n",
       "    </tr>\n",
       "  </tbody>\n",
       "</table>\n",
       "</div>"
      ],
      "text/plain": [
       "                                                title      price ratings  \\\n",
       "0   Apple 2024 MacBook Pro Laptop with M4 chip wit...  $1,399.00     4.8   \n",
       "1   Apple 2024 MacBook Pro Laptop with M4 Pro, 14‑...  $2,229.00     4.7   \n",
       "2   Apple 2024 MacBook Pro Laptop with M4 Pro, 12-...  $1,779.00     4.8   \n",
       "3   Apple 2024 MacBook Air 13-inch Laptop with M3 ...    $999.00     4.7   \n",
       "4   Apple 2024 MacBook Pro Laptop with M4 Pro, 14‑...  $2,591.00     4.7   \n",
       "5   2020 Apple MacBook Pro with 2.0GHz Intel Core ...                4.1   \n",
       "6   MacBook Pro M3 8-core CPU and 10-core GPU 14\" ...                4.1   \n",
       "7   Apple 2024 MacBook Air 15-inch Laptop with M3 ...  $1,399.00     4.7   \n",
       "8   Apple MacBook Pro 13-inch 2.3GHz Core i5, 256G...                3.6   \n",
       "9   Apple 2025 MacBook Air 13-inch Laptop with M4 ...    $999.00     4.8   \n",
       "10  Apple MacBook Pro Late 2019 with 2.6GHz Intel ...                4.0   \n",
       "11  Apple 2022 MacBook Air Laptop with M2 chip: Bu...    $799.00     4.7   \n",
       "12  Apple MacBook Pro Late 2021 with Apple M1 Pro ...                4.3   \n",
       "13  Apple MacBook Pro MGXA2LL/A 15-Inch Laptop wit...                3.9   \n",
       "14  Apple MacBook Pro 2020 with Apple M1 Chip (13-...                4.3   \n",
       "15  Apple Macbook Air 2017 with 1.8GHz Intel Core ...                4.0   \n",
       "16  2022 Apple MacBook Pro Laptop with Apple M2 ch...                4.5   \n",
       "17  Apple MacBook Pro 15\" Retina Core i7 2.6GHz ML...                3.7   \n",
       "\n",
       "   totalratings  \n",
       "0           464  \n",
       "1           148  \n",
       "2           464  \n",
       "3          1131  \n",
       "4           148  \n",
       "5           655  \n",
       "6            25  \n",
       "7           881  \n",
       "8          3478  \n",
       "9                \n",
       "10         1065  \n",
       "11         1057  \n",
       "12          657  \n",
       "13          830  \n",
       "14          694  \n",
       "15         1413  \n",
       "16          300  \n",
       "17          109  "
      ]
     },
     "execution_count": 17,
     "metadata": {},
     "output_type": "execute_result"
    }
   ],
   "source": [
    "amazon_df"
   ]
  },
  {
   "cell_type": "markdown",
   "metadata": {},
   "source": [
    "<div style='text-align:center;font-size:30px'>\n",
    "Rough Work\n",
    "</div>"
   ]
  },
  {
   "cell_type": "code",
   "execution_count": 18,
   "metadata": {},
   "outputs": [],
   "source": [
    "# url = 'https://www.amazon.com/s?k=macbook+pro&crid=3RGTTCMWY6BBI&sprefix=macbook+pro%2Caps%2C140&ref=nb_sb_noss_1'"
   ]
  },
  {
   "cell_type": "code",
   "execution_count": 19,
   "metadata": {},
   "outputs": [],
   "source": [
    "# headers = {\n",
    "#     'User-Agent': 'Mozilla/5.0 (Macintosh; Intel Mac OS X 10_15_7) AppleWebKit/537.36 (KHTML, like Gecko) Chrome/134.0.0.0 Safari/537.36',\n",
    "#     'Accept-Language': 'en-US, en;q=0.5'\n",
    "# }\n"
   ]
  },
  {
   "cell_type": "code",
   "execution_count": 20,
   "metadata": {},
   "outputs": [],
   "source": [
    "# webpage = requests.get(url,headers=headers)"
   ]
  },
  {
   "cell_type": "code",
   "execution_count": 21,
   "metadata": {},
   "outputs": [],
   "source": [
    "# print(webpage)"
   ]
  },
  {
   "cell_type": "code",
   "execution_count": 22,
   "metadata": {},
   "outputs": [],
   "source": [
    "# type(webpage.content)"
   ]
  },
  {
   "cell_type": "code",
   "execution_count": 23,
   "metadata": {},
   "outputs": [],
   "source": [
    "# soup = BeautifulSoup(webpage.content,'html.parser')\n",
    "# soup"
   ]
  },
  {
   "cell_type": "code",
   "execution_count": 24,
   "metadata": {},
   "outputs": [],
   "source": [
    "# links = soup.find_all('a',attrs={'class':'a-link-normal s-line-clamp-2 s-link-style a-text-normal'})\n",
    "# links"
   ]
  },
  {
   "cell_type": "code",
   "execution_count": 25,
   "metadata": {},
   "outputs": [],
   "source": [
    "# link = links[0].get('href')\n",
    "# link"
   ]
  },
  {
   "cell_type": "code",
   "execution_count": 26,
   "metadata": {},
   "outputs": [],
   "source": [
    "# product_url ='https://amazon.com' + link\n",
    "# product_url"
   ]
  },
  {
   "cell_type": "code",
   "execution_count": 27,
   "metadata": {},
   "outputs": [],
   "source": [
    "# product_wp = requests.get(product_url,headers=headers)\n",
    "# product_wp"
   ]
  },
  {
   "cell_type": "code",
   "execution_count": 28,
   "metadata": {},
   "outputs": [],
   "source": [
    "# product_soup = BeautifulSoup(product_wp.content,'html.parser')\n",
    "# product_soup"
   ]
  },
  {
   "cell_type": "code",
   "execution_count": 29,
   "metadata": {},
   "outputs": [],
   "source": [
    "# product_title = product_soup.find('span',attrs={'id':\"productTitle\"}).text.strip()\n",
    "# product_title"
   ]
  },
  {
   "cell_type": "code",
   "execution_count": 30,
   "metadata": {},
   "outputs": [],
   "source": [
    "# product_price = product_soup.find('span',attrs={'class':\"a-price aok-align-center reinventPricePriceToPayMargin priceToPay\"}).text.strip()\n",
    "# product_price\n",
    "\n"
   ]
  },
  {
   "cell_type": "code",
   "execution_count": 31,
   "metadata": {},
   "outputs": [],
   "source": [
    "# product_ratings = product_soup.find('span',attrs={'class':\"a-icon-alt\"}).text\n",
    "# product_ratings = product_ratings[:3]\n",
    "# print(product_ratings)"
   ]
  },
  {
   "cell_type": "code",
   "execution_count": 32,
   "metadata": {},
   "outputs": [],
   "source": [
    "# product_total_ratings = product_soup.find('span',attrs={'id':\"acrCustomerReviewText\"}).text\n",
    "# product_total_ratings = re.sub(r'\\D','',product_total_ratings)\n",
    "# product_total_ratings\n"
   ]
  }
 ],
 "metadata": {
  "kernelspec": {
   "display_name": "base",
   "language": "python",
   "name": "python3"
  },
  "language_info": {
   "codemirror_mode": {
    "name": "ipython",
    "version": 3
   },
   "file_extension": ".py",
   "mimetype": "text/x-python",
   "name": "python",
   "nbconvert_exporter": "python",
   "pygments_lexer": "ipython3",
   "version": "3.12.9"
  }
 },
 "nbformat": 4,
 "nbformat_minor": 2
}
